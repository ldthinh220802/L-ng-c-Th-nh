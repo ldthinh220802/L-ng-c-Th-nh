{
  "nbformat": 4,
  "nbformat_minor": 0,
  "metadata": {
    "colab": {
      "name": "leader.ipynb",
      "provenance": [],
      "authorship_tag": "ABX9TyOGt4KvKEuCCSk7BqVZBTDV",
      "include_colab_link": true
    },
    "kernelspec": {
      "name": "python3",
      "display_name": "Python 3"
    },
    "language_info": {
      "name": "python"
    }
  },
  "cells": [
    {
      "cell_type": "markdown",
      "metadata": {
        "id": "view-in-github",
        "colab_type": "text"
      },
      "source": [
        "<a href=\"https://colab.research.google.com/github/ldthinh220802/L-ng-c-Th-nh/blob/main/leader.ipynb\" target=\"_parent\"><img src=\"https://colab.research.google.com/assets/colab-badge.svg\" alt=\"Open In Colab\"/></a>"
      ]
    },
    {
      "cell_type": "code",
      "metadata": {
        "colab": {
          "base_uri": "https://localhost:8080/"
        },
        "id": "g0t3JNHk1K-w",
        "outputId": "ae5b24dd-36a8-4a32-e6da-8c6f55fecc86"
      },
      "source": [
        "from heapq import heappop, heappush\n",
        "\n",
        "def heap_sort(array):\n",
        "    heap = []\n",
        "    for element in array:\n",
        "        heappush(heap, element)\n",
        "\n",
        "    ordered = []\n",
        "\n",
        "    # While we have elements left in the heap\n",
        "    while heap:\n",
        "        ordered.append(heappop(heap))\n",
        "\n",
        "    return ordered\n",
        "\n",
        "array = [13, 21, 15, 5, 26, 4, 17, 18, 24, 2]\n",
        "print(heap_sort(array))"
      ],
      "execution_count": 1,
      "outputs": [
        {
          "output_type": "stream",
          "text": [
            "[2, 4, 5, 13, 15, 17, 18, 21, 24, 26]\n"
          ],
          "name": "stdout"
        }
      ]
    }
  ]
}