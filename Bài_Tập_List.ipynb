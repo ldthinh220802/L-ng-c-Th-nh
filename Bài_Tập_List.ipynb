{
  "nbformat": 4,
  "nbformat_minor": 0,
  "metadata": {
    "colab": {
      "name": "Bài Tập List",
      "provenance": [],
      "collapsed_sections": [],
      "authorship_tag": "ABX9TyN8FoSEVIJOXh7U+UcqAxCQ",
      "include_colab_link": true
    },
    "kernelspec": {
      "name": "python3",
      "display_name": "Python 3"
    }
  },
  "cells": [
    {
      "cell_type": "markdown",
      "metadata": {
        "id": "view-in-github",
        "colab_type": "text"
      },
      "source": [
        "<a href=\"https://colab.research.google.com/github/ldthinh220802/L-ng-c-Th-nh/blob/main/B%C3%A0i_T%E1%BA%ADp_List.ipynb\" target=\"_parent\"><img src=\"https://colab.research.google.com/assets/colab-badge.svg\" alt=\"Open In Colab\"/></a>"
      ]
    },
    {
      "cell_type": "code",
      "metadata": {
        "id": "Qb0DsWFgKNIU",
        "outputId": "d240a5f5-cfa1-4929-b9b8-9da12981167b",
        "colab": {
          "base_uri": "https://localhost:8080/"
        }
      },
      "source": [
        "x=[]\n",
        "#print(x)\n",
        "x.append(18)\n",
        "#print(x)\n",
        "x.append(\"huế\")\n",
        "#print(x)\n",
        "y=[12,45,-1,-0.56,\"abc\"]\n",
        "#print(y)\n",
        "x.extend(y)\n",
        "print('x =',x)\n",
        "print('giá trị của phần tử đầu tiên của x:',x[0] ,'và phần tử cuối cùng của x: ',x[-1])\n",
        "print('giá trị của phần tử đầu tiên đến phần tử thứ 5 của x: ',x[0:5])\n",
        "print('giá trị của phần từ thứ 3 đến cuối cùng của x :',x[3:])\n"
      ],
      "execution_count": 24,
      "outputs": [
        {
          "output_type": "stream",
          "text": [
            "x = [18, 'huế', 12, 45, -1, -0.56, 'abc']\n",
            "giá trị của phần tử đầu tiên của x: 18 và phần tử cuối cùng của x:  abc\n",
            "giá trị của phần tử đầu tiên đến phần tử thứ 5 của x:  [18, 'huế', 12, 45, -1]\n",
            "giá trị của phần từ thứ 3 đến cuối cùng của x : [45, -1, -0.56, 'abc']\n"
          ],
          "name": "stdout"
        }
      ]
    }
  ]
}