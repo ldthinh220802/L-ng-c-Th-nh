{
  "nbformat": 4,
  "nbformat_minor": 0,
  "metadata": {
    "colab": {
      "name": "bai6chuong4",
      "provenance": [],
      "authorship_tag": "ABX9TyOCOiBqs6hcnf+CGRZZW1eY",
      "include_colab_link": true
    },
    "kernelspec": {
      "name": "python3",
      "display_name": "Python 3"
    }
  },
  "cells": [
    {
      "cell_type": "markdown",
      "metadata": {
        "id": "view-in-github",
        "colab_type": "text"
      },
      "source": [
        "<a href=\"https://colab.research.google.com/github/ldthinh220802/L-ng-c-Th-nh/blob/main/bai6chuong4.ipynb\" target=\"_parent\"><img src=\"https://colab.research.google.com/assets/colab-badge.svg\" alt=\"Open In Colab\"/></a>"
      ]
    },
    {
      "cell_type": "code",
      "metadata": {
        "colab": {
          "base_uri": "https://localhost:8080/"
        },
        "id": "s-GqHjt3BPwQ",
        "outputId": "66ad50bb-ef10-42d2-f6bb-467050049b20"
      },
      "source": [
        "import numpy as np\n",
        "n= int(input(\"nhập số phần tử của list =\"))\n",
        "rd=np.random.random_sample(size = n)*2000000-1000000\n",
        "print(\"list = \",rd)\n",
        "max = rd[1]\n",
        "for a in rd :\n",
        "     if a > max:\n",
        "         max = a\n",
        "print(\"giá trị lớn nhất của list = \",max)"
      ],
      "execution_count": 1,
      "outputs": [
        {
          "output_type": "stream",
          "text": [
            "nhập số phần tử của list =3\n",
            "list =  [-784478.76641727 -271261.43719379 -953395.74463745]\n",
            "giá trị lớn nhất của list =  -271261.43719379045\n"
          ],
          "name": "stdout"
        }
      ]
    }
  ]
}