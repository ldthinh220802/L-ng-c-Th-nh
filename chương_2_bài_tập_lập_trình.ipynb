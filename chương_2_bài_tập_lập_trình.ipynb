{
  "nbformat": 4,
  "nbformat_minor": 0,
  "metadata": {
    "colab": {
      "name": "chương 2 : bài tập lập trình",
      "provenance": [],
      "collapsed_sections": [],
      "authorship_tag": "ABX9TyOf4m3YD71U/nc9AkATBOkl",
      "include_colab_link": true
    },
    "kernelspec": {
      "name": "python3",
      "display_name": "Python 3"
    }
  },
  "cells": [
    {
      "cell_type": "markdown",
      "metadata": {
        "id": "view-in-github",
        "colab_type": "text"
      },
      "source": [
        "<a href=\"https://colab.research.google.com/github/ldthinh220802/L-ng-c-Th-nh/blob/main/ch%C6%B0%C6%A1ng_2_b%C3%A0i_t%E1%BA%ADp_l%E1%BA%ADp_tr%C3%ACnh.ipynb\" target=\"_parent\"><img src=\"https://colab.research.google.com/assets/colab-badge.svg\" alt=\"Open In Colab\"/></a>"
      ]
    },
    {
      "cell_type": "markdown",
      "metadata": {
        "id": "v5q34J49RXy4"
      },
      "source": [
        "Bài 1: nhập hai số nguyên và tính\n"
      ]
    },
    {
      "cell_type": "code",
      "metadata": {
        "id": "N9CI2MS-RVen"
      },
      "source": [
        "a = int(input(\"a = \"))\n",
        "b = int(input(\"b = \"))\n",
        "print('a+b= ', a + b )\n",
        "print('a.b= ', a * b )\n",
        "print('a-b= ', a - b )\n",
        "print('a:b dư =',a%b)\n",
        "print('phần nguyên của a:b= ',a//b)"
      ],
      "execution_count": null,
      "outputs": []
    },
    {
      "cell_type": "markdown",
      "metadata": {
        "id": "mVCkRKECTx-w"
      },
      "source": [
        "Bài 2: nhập hai số thực và tính\n"
      ]
    },
    {
      "cell_type": "code",
      "metadata": {
        "id": "AMp1AP_xTzOP"
      },
      "source": [
        "a=float((input(\"a= \")))\n",
        "b=float((input(\"b= \")))\n",
        "print(\"a+b= \",a+b)\n",
        "print(\"a.b= \",a*b)\n",
        "print(\"a-b= \",a-b)\n",
        "print(\"a/b= \",a/b)"
      ],
      "execution_count": null,
      "outputs": []
    },
    {
      "cell_type": "markdown",
      "metadata": {
        "id": "4o_IEMGdVGFk"
      },
      "source": [
        "Bài 3 : Sử dụng các hàm toán học của số thực\n"
      ]
    },
    {
      "cell_type": "code",
      "metadata": {
        "id": "UGEelpuEVHuL"
      },
      "source": [
        "import math\n",
        "x= float(input(\"x= \"))\n",
        "print(\"|x|= \",int(abs(x)))\n",
        "print(\"phần nguyên của số x= \",math.trunc(x))\n",
        "print(\"chuyển đổi thành số thực\",float(x))\n",
        "y=float(input(\"y= \"))\n",
        "print('x^y= ',x**y)\n",
        "if x>0:\n",
        "   print('căn bậc hai của x= ',math.sqrt(x))\n",
        "else :\n",
        "  print(\"không có căn bậc hai\")"
      ],
      "execution_count": null,
      "outputs": []
    },
    {
      "cell_type": "markdown",
      "metadata": {
        "id": "Am_yPf1ubRHN"
      },
      "source": [
        "Bài 4 :Nhập 2 số từ bàn phím và thực hiện các phép so sánh sau giữa 2 số:"
      ]
    },
    {
      "cell_type": "code",
      "metadata": {
        "id": "nhHiaNQHbSt7"
      },
      "source": [
        "x=float(input(\"x= \"))\n",
        "y=float(input(\"y= \"))\n",
        "print(\"x>=y: \",x>=y)\n",
        "print(\"x<=y:\",x<=y)\n",
        "print(\"x#y:\",x!=y) \n",
        "print(\"x>y:\",x>y)\n",
        "print(\"x<y:\",x<y)\n",
        " "
      ],
      "execution_count": null,
      "outputs": []
    },
    {
      "cell_type": "markdown",
      "metadata": {
        "id": "TXxQkWR_gm9M"
      },
      "source": [
        "Bài 5:Nhập 1 chuỗi ký tự từ bàn phím "
      ]
    },
    {
      "cell_type": "code",
      "metadata": {
        "id": "E2PSUsPQgtzz"
      },
      "source": [
        "a= input(\"nhập chuỗi a từ bàn phím: \")\n",
        "print(\"chuỗi in hoa:\",str.upper(a))\n",
        "print(\"chuỗi in thường:\",str.lower(a))"
      ],
      "execution_count": null,
      "outputs": []
    },
    {
      "cell_type": "markdown",
      "metadata": {
        "id": "HFvVLDTQiJEl"
      },
      "source": [
        "Bài 6: Xuất ra màn hình 1 chuỗi ký từ nằm trên nhiều hàng"
      ]
    },
    {
      "cell_type": "code",
      "metadata": {
        "id": "MimiV5hKiODS"
      },
      "source": [
        "print(\"\"\"16 Typh on the mic\n",
        "Khúc nhạc này bật play all night\n",
        "Hoa phượng đỏ , Hải Phòng City \n",
        "Người ở đây không ngán một ai  \"\"\")\n"
      ],
      "execution_count": null,
      "outputs": []
    }
  ]
}